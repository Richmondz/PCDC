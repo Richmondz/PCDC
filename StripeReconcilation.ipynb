{
  "nbformat": 4,
  "nbformat_minor": 0,
  "metadata": {
    "colab": {
      "provenance": []
    },
    "kernelspec": {
      "name": "python3",
      "display_name": "Python 3"
    },
    "language_info": {
      "name": "python"
    }
  },
  "cells": [
    {
      "cell_type": "code",
      "execution_count": null,
      "metadata": {
        "id": "qx4ESibxACdh"
      },
      "outputs": [],
      "source": [
        "import pandas as pd\n",
        "import numpy as np\n",
        "\n",
        "df = pd.read_csv('unified_payments.csv')\n",
        "df1 = pd.read_csv('payouts.csv')\n"
      ]
    },
    {
      "cell_type": "code",
      "source": [
        "######\n",
        "# PLEASE NOTE THAT DATASET FOR TOTAL ACTUAL PAYOUTS MUST BE FULLY PROCESSED, IT WILL NOT CALCULATE UNPROCESSED TRANSFERS\n",
        "######\n",
        "\n",
        "######\n",
        "# FOR FUTURE CALCULATION DELETE OLD CSV FILES AND\n",
        "# JUST GENERATE A NEW CSV FROM STRIPE AND NAME THE FULL REPORT unified_payments.csv\n",
        "# AND THE PAYOUTS TO payouts.csv\n",
        "# THEN UPLOAD T0 THE FILES SECTION\n",
        "######\n",
        "\n",
        "total_amount = df['Converted Amount'].sum() # total usd $ converted amount\n",
        "total_refunds = df['Converted Amount Refunded'].sum() # total usd $ converted refunds\n",
        "\n",
        "# Fees and taxes on fees columns were not accounted for because\n",
        "#they were all \"0\" values from the dataset generated via stripe.\n",
        "\n",
        "total_net_gain = (total_amount - total_refunds).round(2)\n",
        "print(\"The total net gain in USD dollars after subtracting the total refunded amounts \\n from the total amounts was : $\",str(total_net_gain)+\n",
        "      \"\\n \\n The total net gain after deducting Stripe's $100 buffer for refunds is : $\",str(total_net_gain-100))\n",
        "\n",
        "total_actual_payouts = df1['Amount'].sum().round(2)\n",
        "print(\"\\n The total actual payouts : $\",str(total_actual_payouts+21280.72)) #+21280.72 was the pending payout, make sure to add this or there will be variance.\n",
        "print(\"If total actual payout is consistent with the total payout calculated above then all payouts are reconciled.\")\n",
        "\n",
        "\n",
        "\n"
      ],
      "metadata": {
        "colab": {
          "base_uri": "https://localhost:8080/"
        },
        "id": "sUN3efBCSR0B",
        "outputId": "b4aeed90-460f-4c13-a784-916b3e316544"
      },
      "execution_count": null,
      "outputs": [
        {
          "output_type": "stream",
          "name": "stdout",
          "text": [
            "The total net gain in USD dollars after subtracting the total refunded amounts \n",
            " from the total amounts was : $ 56811.43\n",
            " \n",
            " The total net gain after deducting Stripe's $100 buffer for refunds is : $ 56711.43\n",
            "\n",
            " The total actual payouts : $ 56613.05\n",
            "If total actual payout is consistent with the total payout calculated above then all payouts are reconciled.\n"
          ]
        }
      ]
    }
  ]
}